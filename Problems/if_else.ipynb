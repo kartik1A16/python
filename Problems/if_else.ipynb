{
 "cells": [
  {
   "cell_type": "markdown",
   "id": "de8638c5",
   "metadata": {},
   "source": [
    "# If-Else\n",
    "***"
   ]
  },
  {
   "cell_type": "markdown",
   "id": "4e19764f",
   "metadata": {},
   "source": [
    "## Task\n",
    "Given an integer,***n***, perform the following conditional actions:\n",
    "- If  is odd, print Weird <br>\n",
    "- If  is even and in the inclusive range of  to , print Not Weird <br>\n",
    "- If  is even and in the inclusive range of  to , print Weird <br>\n",
    "- If  is even and greater than , print Not Weird <br>\n",
    "\n",
    "**Input Format**\n",
    " <br>A single line containing a positive integer,***n***.<br>\n",
    "**Constraints**\n",
    "- 1<***n***<100 <br>\n",
    "\n",
    "**Output Format** <br>\n",
    " Print Weird if the number is weird. Otherwise, print Not Weird."
   ]
  },
  {
   "cell_type": "code",
   "execution_count": 1,
   "id": "d3d8c24b",
   "metadata": {},
   "outputs": [
    {
     "name": "stdout",
     "output_type": "stream",
     "text": [
      "Weird\n"
     ]
    }
   ],
   "source": [
    "if __name__ == '__main__':\n",
    "    n = int(input().strip())\n",
    "    if(n%2==0):\n",
    "        if(2<=n<=5):\n",
    "            print('Not Weird')\n",
    "        elif(6<=n<=20):\n",
    "            print('Weird')\n",
    "        else:\n",
    "            print('Not Weird')\n",
    "    else:\n",
    "        print('Weird')"
   ]
  }
 ],
 "metadata": {
  "kernelspec": {
   "display_name": "Python 3",
   "language": "python",
   "name": "python3"
  },
  "language_info": {
   "codemirror_mode": {
    "name": "ipython",
    "version": 3
   },
   "file_extension": ".py",
   "mimetype": "text/x-python",
   "name": "python",
   "nbconvert_exporter": "python",
   "pygments_lexer": "ipython3",
   "version": "3.13.1"
  }
 },
 "nbformat": 4,
 "nbformat_minor": 5
}
