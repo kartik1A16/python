{
 "cells": [
  {
   "cell_type": "markdown",
   "id": "5613fc7b",
   "metadata": {},
   "source": [
    "# Arithmetic Operations\n",
    "***"
   ]
  },
  {
   "cell_type": "markdown",
   "id": "ea47a314",
   "metadata": {},
   "source": [
    "## Task\n",
    "The provided code stub reads two integers from STDIN, ***a*** and ***b***. Add code to print three lines where:<br>\n",
    "\n",
    "- The first line contains the sum of the two numbers.\n",
    "- The second line contains the difference of the two numbers (first - second).\n",
    "- The third line contains the product of the two numbers.<br>\n",
    "Input Format\n",
    "\n",
    "The first line contains the first integer, .\n",
    "The second line contains the second integer, .\n",
    "\n",
    "**Constraints**<br>\n",
    "1<=***a***<10^10 <br>\n",
    "1<=***b***<10^10 <br>\n",
    "\n",
    "**Output Format**\n",
    "Print the three lines as explained above."
   ]
  },
  {
   "cell_type": "code",
   "execution_count": 2,
   "id": "36ccb1e1",
   "metadata": {},
   "outputs": [
    {
     "name": "stdout",
     "output_type": "stream",
     "text": [
      "7\n",
      "3\n",
      "10\n"
     ]
    }
   ],
   "source": [
    "if __name__ == '__main__':\n",
    "    a = int(input())\n",
    "    b = int(input())\n",
    "    \n",
    "    print(a+b)\n",
    "    print(a-b)\n",
    "    print(a*b)"
   ]
  }
 ],
 "metadata": {
  "kernelspec": {
   "display_name": "Python 3",
   "language": "python",
   "name": "python3"
  },
  "language_info": {
   "codemirror_mode": {
    "name": "ipython",
    "version": 3
   },
   "file_extension": ".py",
   "mimetype": "text/x-python",
   "name": "python",
   "nbconvert_exporter": "python",
   "pygments_lexer": "ipython3",
   "version": "3.13.1"
  }
 },
 "nbformat": 4,
 "nbformat_minor": 5
}
