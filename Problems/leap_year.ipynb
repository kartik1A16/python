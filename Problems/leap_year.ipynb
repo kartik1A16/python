{
 "cells": [
  {
   "cell_type": "markdown",
   "id": "bef5d7e3",
   "metadata": {},
   "source": [
    "# Write a Function\n",
    "***"
   ]
  },
  {
   "cell_type": "markdown",
   "id": "8736e59d",
   "metadata": {},
   "source": [
    "An extra day is added to the calendar almost every four years as February 29, and the day is called a leap day. It corrects the calendar for the fact that our planet takes approximately 365.25 days to orbit the sun. A leap year contains a leap day.<br>\n",
    "\n",
    "In the Gregorian calendar, three conditions are used to identify leap years:\n",
    "\n",
    "The year can be evenly divided by 4, is a leap year, unless:<br>\n",
    "- The year can be evenly divided by 100, it is NOT a leap year, unless:\n",
    "- The year is also evenly divisible by 400. Then it is a leap year.\n",
    "This means that in the Gregorian calendar, the years 2000 and 2400 are leap years, while 1800, 1900, 2100, 2200, 2300 and 2500 are NOT leap years."
   ]
  },
  {
   "cell_type": "markdown",
   "id": "c65d7dd9",
   "metadata": {
    "vscode": {
     "languageId": "plaintext"
    }
   },
   "source": [
    "## Task\n",
    "\n",
    "Given a year, determine whether it is a leap year. If it is a leap year, return the Boolean *True*, otherwise return *False*.\n",
    "\n",
    "Note that the code stub provided reads from STDIN and passes arguments to the *is_leap* function. It is only necessary to complete the *is_leap* function.\n",
    "\n",
    "**Input Format**\n",
    "\n",
    "Read ***year***, the year to test.\n",
    "\n",
    "**Constraints**\n",
    "1900<=***year***<=10^5\n",
    "\n",
    "**Output Format**\n",
    "\n",
    "The function must return a Boolean value (True/False). Output is handled by the provided code stub."
   ]
  },
  {
   "cell_type": "code",
   "execution_count": 3,
   "id": "d6485ab1",
   "metadata": {},
   "outputs": [
    {
     "name": "stdout",
     "output_type": "stream",
     "text": [
      "True\n"
     ]
    }
   ],
   "source": [
    "def is_leap(year):\n",
    "    leap = False\n",
    "    if(year%4==0 and year%100!=0) or (year%400==0):\n",
    "        leap= True\n",
    "    return leap\n",
    "\n",
    "year = int(input())\n",
    "print(is_leap(year))"
   ]
  }
 ],
 "metadata": {
  "kernelspec": {
   "display_name": "Python 3",
   "language": "python",
   "name": "python3"
  },
  "language_info": {
   "codemirror_mode": {
    "name": "ipython",
    "version": 3
   },
   "file_extension": ".py",
   "mimetype": "text/x-python",
   "name": "python",
   "nbconvert_exporter": "python",
   "pygments_lexer": "ipython3",
   "version": "3.13.1"
  }
 },
 "nbformat": 4,
 "nbformat_minor": 5
}
