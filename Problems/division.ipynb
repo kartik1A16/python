{
 "cells": [
  {
   "cell_type": "markdown",
   "id": "e4c9412b",
   "metadata": {},
   "source": [
    "# Division"
   ]
  },
  {
   "cell_type": "markdown",
   "id": "70757f84",
   "metadata": {},
   "source": [
    "## Task\n",
    "The provided code stub reads two integers, ***a*** and ***b***, from STDIN.<br>\n",
    "\n",
    "Add logic to print two lines. The first line should contain the result of integer division,  ***a***//***b***. The second line should contain the result of float division,  ***a***/***b***.<br>\n",
    "\n",
    "No rounding or formatting is necessary.\n",
    "\n",
    "**Input Format**<br>\n",
    "The first line contains the first integer, ***a***.<br>\n",
    "The second line contains the second integer, ***b***.<br>\n",
    "\n",
    "**Output Format**<br>\n",
    "Print the two lines as described above."
   ]
  },
  {
   "cell_type": "code",
   "execution_count": 2,
   "id": "7f1a6e78",
   "metadata": {},
   "outputs": [
    {
     "name": "stdout",
     "output_type": "stream",
     "text": [
      "0\n",
      "0.6666666666666666\n"
     ]
    }
   ],
   "source": [
    "if __name__ == '__main__':\n",
    "    a = int(input())\n",
    "    b = int(input())\n",
    "    print(a//b)\n",
    "    print(a/b)\n"
   ]
  }
 ],
 "metadata": {
  "kernelspec": {
   "display_name": "Python 3",
   "language": "python",
   "name": "python3"
  },
  "language_info": {
   "codemirror_mode": {
    "name": "ipython",
    "version": 3
   },
   "file_extension": ".py",
   "mimetype": "text/x-python",
   "name": "python",
   "nbconvert_exporter": "python",
   "pygments_lexer": "ipython3",
   "version": "3.13.1"
  }
 },
 "nbformat": 4,
 "nbformat_minor": 5
}
