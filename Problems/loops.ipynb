{
 "cells": [
  {
   "cell_type": "markdown",
   "id": "18edbd79",
   "metadata": {},
   "source": [
    "# Loops\n",
    "***"
   ]
  },
  {
   "cell_type": "markdown",
   "id": "6d43aea5",
   "metadata": {},
   "source": [
    "## Task\n",
    "The provided code stub reads an integer, ***n***, from STDIN. For all non-negative integers ***i<n***>, print ***i^2***.\n",
    "\n",
    "**Example**\n",
    "***n*** = 3<br>\n",
    "The list of non-negative integers that are less than  is ***n*** = 3. Print the square of each number on a separate line.<br>\n",
    "0<br>\n",
    "1<br>\n",
    "4<br>\n",
    "\n",
    "**Input Format**\n",
    "\n",
    "The first and only line contains the integer, ***n***.\n",
    "\n",
    "**Constraints**\n",
    "1<=***n***<=20\n",
    "\n",
    "**Output Format**\n",
    "\n",
    "Print ***n*** lines, one corresponding to each ***i***."
   ]
  },
  {
   "cell_type": "code",
   "execution_count": 1,
   "id": "72b30d9e",
   "metadata": {},
   "outputs": [
    {
     "name": "stdout",
     "output_type": "stream",
     "text": [
      "0\n",
      "1\n",
      "4\n",
      "9\n",
      "16\n",
      "25\n",
      "36\n",
      "49\n",
      "64\n",
      "81\n"
     ]
    }
   ],
   "source": [
    "if __name__ == '__main__':\n",
    "    n = int(input())\n",
    "    \n",
    "    res= [i**2 for i in range(n)]\n",
    "    print(*res, sep='\\n')"
   ]
  },
  {
   "cell_type": "code",
   "execution_count": 2,
   "id": "10b10a7a",
   "metadata": {},
   "outputs": [
    {
     "name": "stdout",
     "output_type": "stream",
     "text": [
      "0\n",
      "1\n",
      "4\n",
      "9\n",
      "16\n"
     ]
    }
   ],
   "source": [
    "n= int(input())\n",
    "for i in range(n):\n",
    "    print(i**2)"
   ]
  }
 ],
 "metadata": {
  "kernelspec": {
   "display_name": "Python 3",
   "language": "python",
   "name": "python3"
  },
  "language_info": {
   "codemirror_mode": {
    "name": "ipython",
    "version": 3
   },
   "file_extension": ".py",
   "mimetype": "text/x-python",
   "name": "python",
   "nbconvert_exporter": "python",
   "pygments_lexer": "ipython3",
   "version": "3.13.1"
  }
 },
 "nbformat": 4,
 "nbformat_minor": 5
}
