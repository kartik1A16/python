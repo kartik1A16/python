{
 "cells": [
  {
   "cell_type": "markdown",
   "id": "e28a7860",
   "metadata": {},
   "source": [
    "# The Input Function"
   ]
  },
  {
   "cell_type": "markdown",
   "id": "ca81f114",
   "metadata": {},
   "source": [
    "In the last programs we saw how to print a message, here we will how to take input from the user using one of the simplest ways to get input from a user in Python.The `input()` function. Using this function, we ask the user to give us strings that we can use in our program. In order to get input from the user, we will call the `input()` function, then store the string into a variable, then we can use this variable elsewhere in the code."
   ]
  },
  {
   "cell_type": "code",
   "execution_count": 3,
   "id": "c344b6b4",
   "metadata": {},
   "outputs": [
    {
     "name": "stdout",
     "output_type": "stream",
     "text": [
      "Kartik\n"
     ]
    }
   ],
   "source": [
    "name=input('Enter your name')\n",
    "print(name)"
   ]
  }
 ],
 "metadata": {
  "kernelspec": {
   "display_name": "Python 3",
   "language": "python",
   "name": "python3"
  },
  "language_info": {
   "codemirror_mode": {
    "name": "ipython",
    "version": 3
   },
   "file_extension": ".py",
   "mimetype": "text/x-python",
   "name": "python",
   "nbconvert_exporter": "python",
   "pygments_lexer": "ipython3",
   "version": "3.13.1"
  }
 },
 "nbformat": 4,
 "nbformat_minor": 5
}
