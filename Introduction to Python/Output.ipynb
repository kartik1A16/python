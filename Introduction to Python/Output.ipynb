{
 "cells": [
  {
   "cell_type": "markdown",
   "id": "6a778f10",
   "metadata": {},
   "source": []
  },
  {
   "cell_type": "markdown",
   "id": "e77afa75",
   "metadata": {},
   "source": [
    "# Printing\n",
    "In the Hello word program we used print() function for our output. In this Notebook we will see how print() can be used in different ways.\n",
    "`print()` function’s purpose is to print out text to the output of the program."
   ]
  },
  {
   "cell_type": "code",
   "execution_count": 1,
   "id": "8d7ad274",
   "metadata": {},
   "outputs": [
    {
     "name": "stdout",
     "output_type": "stream",
     "text": [
      "Everything inside  gets printed\n"
     ]
    }
   ],
   "source": [
    "print(\"Everything inside \"\" gets printed\")"
   ]
  },
  {
   "cell_type": "markdown",
   "id": "8873fa71",
   "metadata": {},
   "source": [
    "The print function puts a newline character after the printed content by default, causing each word to be displayed on it's own line."
   ]
  },
  {
   "cell_type": "code",
   "execution_count": 2,
   "id": "183cbbb2",
   "metadata": {},
   "outputs": [
    {
     "name": "stdout",
     "output_type": "stream",
     "text": [
      "ABC\n",
      "123\n",
      "!@#\n"
     ]
    }
   ],
   "source": [
    "print(\"ABC\")\n",
    "print(\"123\")\n",
    "print(\"!@#\")"
   ]
  },
  {
   "cell_type": "markdown",
   "id": "2a3705de",
   "metadata": {},
   "source": [
    " It prints out each words in new line. This is because in Python by default the print function adds a “newline” character. The newline character is equivalent to `ENTER` or `RETURN` key in a word document."
   ]
  },
  {
   "cell_type": "markdown",
   "id": "bdee766a",
   "metadata": {},
   "source": [
    "What if someone wants to print multiple output in one line?\n",
    "We put a space (' ') rather than a newline ('\\n') at the end instead. We can also add ',' or any other letter or sign."
   ]
  },
  {
   "cell_type": "code",
   "execution_count": 3,
   "id": "9a653e2c",
   "metadata": {},
   "outputs": [
    {
     "name": "stdout",
     "output_type": "stream",
     "text": [
      "the big black box "
     ]
    }
   ],
   "source": [
    "print(\"the\", end=' ')\n",
    "print('big', end=' ')\n",
    "print(\"black\", end=' ')\n",
    "print('box', end=' ')"
   ]
  },
  {
   "cell_type": "markdown",
   "id": "5ba5fb27",
   "metadata": {},
   "source": [
    "In Python we can also print multi-line output using `'''  '''`. "
   ]
  },
  {
   "cell_type": "code",
   "execution_count": 5,
   "id": "f45920b4",
   "metadata": {},
   "outputs": [
    {
     "name": "stdout",
     "output_type": "stream",
     "text": [
      "We can \n",
      "write anything, \n",
      "of any length\n"
     ]
    }
   ],
   "source": [
    "print('''We can \n",
    "write anything, \n",
    "of any length''')"
   ]
  }
 ],
 "metadata": {
  "kernelspec": {
   "display_name": "Python 3",
   "language": "python",
   "name": "python3"
  },
  "language_info": {
   "codemirror_mode": {
    "name": "ipython",
    "version": 3
   },
   "file_extension": ".py",
   "mimetype": "text/x-python",
   "name": "python",
   "nbconvert_exporter": "python",
   "pygments_lexer": "ipython3",
   "version": "3.13.1"
  }
 },
 "nbformat": 4,
 "nbformat_minor": 5
}
