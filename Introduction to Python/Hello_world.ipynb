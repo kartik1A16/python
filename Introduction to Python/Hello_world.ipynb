{
 "cells": [
  {
   "cell_type": "markdown",
   "id": "5200c4ac",
   "metadata": {},
   "source": [
    "# Hello World"
   ]
  },
  {
   "cell_type": "markdown",
   "id": "23186681",
   "metadata": {},
   "source": [
    "Hello world is the most basic program in every programming language. In python, the traditional 'Hello world!!' program is the simplest possible script to demonstrate Python's syntax for outputing text. "
   ]
  },
  {
   "cell_type": "code",
   "execution_count": 2,
   "id": "b9c22a8d",
   "metadata": {},
   "outputs": [
    {
     "name": "stdout",
     "output_type": "stream",
     "text": [
      "Hello World!!\n"
     ]
    }
   ],
   "source": [
    "print('Hello World!!')"
   ]
  },
  {
   "cell_type": "markdown",
   "id": "d866cdca",
   "metadata": {},
   "source": [
    "Here, we use print() function to print a specified message."
   ]
  }
 ],
 "metadata": {
  "kernelspec": {
   "display_name": "Python 3",
   "language": "python",
   "name": "python3"
  },
  "language_info": {
   "codemirror_mode": {
    "name": "ipython",
    "version": 3
   },
   "file_extension": ".py",
   "mimetype": "text/x-python",
   "name": "python",
   "nbconvert_exporter": "python",
   "pygments_lexer": "ipython3",
   "version": "3.13.1"
  }
 },
 "nbformat": 4,
 "nbformat_minor": 5
}
